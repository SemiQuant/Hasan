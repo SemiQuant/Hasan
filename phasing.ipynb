{
 "cells": [
  {
   "cell_type": "code",
   "execution_count": null,
   "metadata": {},
   "outputs": [],
   "source": [
    "import pysam\n",
    "from collections import Counter\n",
    "import pandas as pd\n",
    "samfile = pysam.AlignmentFile(\"/Users/SemiQuant/Downloads/BDQ_haplo/TB-B240-054_S26-bowtie2.bam\", \"rb\")\n",
    "\n",
    "# var_dic will be snps/indels, if also adding reference then edit the below\n",
    "# import numpy as np\n",
    "# vant = np.loadtxt(\"/Users/SemiQuant/Bioinformatics/Projects/Hasan/snps.tsv\", delimiter=\"\\t\", \n",
    "#           dtype={'names': ('CHROM', 'POS', 'REF', 'ALT', 'TYPE'),\n",
    "#           'formats': ('<U100', 'int', 'U10', 'U10', 'U10')}, skiprows=1)\n",
    "var_dic = {}\n",
    "# this is gross, but i dont really speak python \n",
    "with open(\"/Users/SemiQuant/Bioinformatics/Projects/Hasan/snps.tsv\") as f:\n",
    "    next(f) # skip header line\n",
    "    for line in f:\n",
    "        (CHROM, POS, REF, ALT, TYPE) = line.split()\n",
    "        try:\n",
    "            var_dic[CHROM][int(POS)].setdefault('call', []).append(ALT)\n",
    "        except:\n",
    "            try:\n",
    "                var_dic[CHROM][int(POS)] = {'call' : [ALT]}\n",
    "            except:\n",
    "                var_dic[CHROM] = {int(POS) : {'call' : [ALT]}}\n",
    "\n",
    "# var_dic={'rpoC': {1221: {'call': ['T']}}, 'Rv0678_amplicon4': {111: {'call': ['A', 'G', 'G', 'T']}, 112: {'call': ['G', '-']}, 114: {'call': ['C']}, 116: {'call': ['C']}}}var_dic={'rpoC': {1221: {'call': ['T']}}, 'Rv0678_amplicon4': {111: {'call': ['A', 'G', 'G', 'T']}, 112: {'call': ['G', '-']}, 114: {'call': ['C']}, 116: {'call': ['C']}}}\n",
    "\n",
    "# this is like this as I dont really know pysam and how to do it cleaner, with also getting readnames\n",
    "for chrom in var_dic:\n",
    "    if chrom not in samfile.references:\n",
    "        print(chrom, \" not found in bam file!\")\n",
    "    else:\n",
    "        for i in var_dic[chrom]:\n",
    "            for pileupcolumn in samfile.pileup(chrom, i, i+1):\n",
    "                for pileupread in pileupcolumn.pileups:\n",
    "                    if pileupread.query_position == i:\n",
    "                        if not pileupread.is_del: # if reference then add\n",
    "                            read_call_tmp = pileupread.alignment.query_sequence[pileupread.query_position]\n",
    "                            try:\n",
    "                                #  check if it matches the call in there as pairs have same name\n",
    "                                if read_call_tmp == var_dic[chrom][i][pileupread.alignment.query_name]:\n",
    "                                    break\n",
    "                                else:\n",
    "                                    var_dic[chrom][i][pileupread.alignment.query_name] = \"N\"\n",
    "                            except:\n",
    "                                if pileupread.is_refskip == 0: # if reference then add, not sure if this is working\n",
    "                                    var_dic[chrom][i][pileupread.alignment.query_name] = read_call_tmp\n",
    "                                elif read_call_tmp in var_dic[chrom][i][\"call\"]:\n",
    "                                    var_dic[chrom][i][pileupread.alignment.query_name] = read_call_tmp\n",
    "                                else:\n",
    "                                    var_dic[chrom][i][pileupread.alignment.query_name] = \"N\"\n",
    "                        else:\n",
    "                            try:\n",
    "                                #  check if it matches the call in there as pairs have same name\n",
    "                                if read_call_tmp == var_dic[chrom][i][pileupread.alignment.query_name]:\n",
    "                                    break\n",
    "                                else:\n",
    "                                    var_dic[chrom][i][pileupread.alignment.query_name] = \"N\"\n",
    "                            except:\n",
    "                                if read_call_tmp == var_dic[chrom][i][pileupread.alignment.query_name]:\n",
    "                                    break\n",
    "                                else:\n",
    "                                    var_dic[chrom][i][pileupread.alignment.query_name] = \"-\""
   ]
  },
  {
   "cell_type": "code",
   "execution_count": null,
   "metadata": {},
   "outputs": [],
   "source": [
    "var_df = pd.DataFrame.from_dict({(i,j): var_dic[i][j] \n",
    "                           for i in var_dic.keys() \n",
    "                           for j in var_dic[i].keys()},\n",
    "                       orient='columns')\n",
    "var_df.columns = var_df.columns.to_flat_index()\n",
    "# var_df.columns = [' '.join(str(col)).strip() for col in var_df.columns.values]\n",
    "var_df = var_df[1:]\n",
    "cnms = []\n",
    "for col in var_df.columns.values:\n",
    "    cnms.append(col[0] + \"_\" + str(col[1]))\n",
    "var_df.columns = cnms"
   ]
  },
  {
   "cell_type": "code",
   "execution_count": null,
   "metadata": {},
   "outputs": [],
   "source": []
  },
  {
   "cell_type": "code",
   "execution_count": null,
   "metadata": {},
   "outputs": [],
   "source": []
  },
  {
   "cell_type": "code",
   "execution_count": null,
   "metadata": {},
   "outputs": [],
   "source": []
  },
  {
   "cell_type": "code",
   "execution_count": null,
   "metadata": {},
   "outputs": [],
   "source": []
  },
  {
   "cell_type": "code",
   "execution_count": null,
   "metadata": {},
   "outputs": [],
   "source": [
    "import pysam\n",
    "import numpy as np\n",
    "from collections import Counter\n",
    "vant = np.loadtxt(\"/Users/SemiQuant/Bioinformatics/Projects/Hasan/snps.tsv\", delimiter=\"\\t\", \n",
    "          dtype={'names': ('CHROM', 'POS', 'REF', 'ALT', 'TYPE'),\n",
    "          'formats': ('<U100', 'int', 'U10', 'U10', 'U10')}, skiprows=1)\n",
    "\n",
    "# input file is the reference name, reference based positions and mutations and type\n",
    "\n",
    "samfile = pysam.AlignmentFile(\"/Users/SemiQuant/Downloads/test/test.bam\", \"rb\")\n",
    "\n",
    "# TODO\n",
    "# add in procedures for indels\n",
    "# add in better output format, make it a matrix\n",
    "# add in reference sequence so can determine more info later\n",
    "\n",
    "\n",
    "phase_out = []\n",
    "for chrom in set(vant[\"CHROM\"]):\n",
    "    seq_out = []\n",
    "    pos = vant[\"POS\"][vant[\"CHROM\"] == chrom]\n",
    "    call = vant[\"ALT\"][vant[\"CHROM\"] == chrom]\n",
    "    ref = vant[\"REF\"][vant[\"CHROM\"] == chrom]\n",
    "    try:\n",
    "        for read in samfile.fetch(chrom, until_eof=True):\n",
    "            try:\n",
    "                #convert to positions in the read\n",
    "                pos_conv = read.query_alignment_start + read.get_reference_positions()[0] #unaligned leading bases + position of first alignment on reference\n",
    "                pos_conv = pos - pos_conv\n",
    "                phase = \"\"\n",
    "                call_c = 0\n",
    "                for p in pos_conv:\n",
    "                    try:\n",
    "                        # we dont want any bases that were filtered out so only take those that match the input\n",
    "                        if read.query_sequence[p] in call[call_c].split(',') or read.query_sequence[p] == ref[call_c]: # in case more than on allele\n",
    "                            phase += read.query_sequence[p]\n",
    "                        else:\n",
    "                            phase += \"N\"\n",
    "                    except Exception:\n",
    "                        phase += \"N\"\n",
    "                    call_c += 1\n",
    "                seq_out.append(phase)\n",
    "            except Exception:\n",
    "                continue\n",
    "        # phase_out.append([[chrom], [Counter(seq_out)]])\n",
    "        phase_out.append([[chrom], list(Counter(seq_out).items())])\n",
    "    except Exception:\n",
    "        print(chrom, \" not found in bam file!\")"
   ]
  },
  {
   "cell_type": "code",
   "execution_count": null,
   "metadata": {},
   "outputs": [],
   "source": [
    "phase_out"
   ]
  },
  {
   "cell_type": "code",
   "execution_count": null,
   "metadata": {},
   "outputs": [],
   "source": []
  },
  {
   "cell_type": "code",
   "execution_count": null,
   "metadata": {},
   "outputs": [],
   "source": [
    "import pysam\n",
    "import numpy as np\n",
    "from collections import Counter\n",
    "samfile = pysam.AlignmentFile(\"/Users/SemiQuant/Downloads/BDQ_haplo/TB-B240-054_S26-bowtie2.bam\", \"rb\")\n"
   ]
  },
  {
   "cell_type": "code",
   "execution_count": null,
   "metadata": {},
   "outputs": [],
   "source": [
    "count=0\n",
    "for read in samfile.fetch(until_eof=True):\n",
    "    count+=1\n",
    "    if read.qname == 'M02061:126:000000000-BVK9B:1:1102:15579:11359':\n",
    "        for cigar_operations in read.cigar:\n",
    "            (type_cigar_op,length_cigar_op)=cigar_operations\n",
    "            print(cigar_operations)\n",
    "            print(type_cigar_op)\n",
    "\n",
    "#             print(read.query_sequence[p])\n",
    "#                 if type_cigar_op==2 :# DELETION\n",
    "#         for p in range(0, 240):\n",
    "#             print(read.query_alignment_start)\n",
    "#             print(p)\n",
    "#             print(read.query_sequence[p])\n",
    "                    \n",
    "#     if count >10:\n",
    "#         break"
   ]
  },
  {
   "cell_type": "code",
   "execution_count": null,
   "metadata": {},
   "outputs": [],
   "source": []
  },
  {
   "cell_type": "code",
   "execution_count": null,
   "metadata": {},
   "outputs": [],
   "source": [
    "for pileupcolumn in samfile.pileup('Rv0678_amplicon4', 111, 112):\n",
    "    for pileupread in pileupcolumn.pileups:\n",
    "        #so this is each base in the read in the pileup\n",
    "        if pileupread.alignment.query_name == 'M02061:126:000000000-BVK9B:1:1102:15579:11359':\n",
    "#             print(pileupread)\n",
    "#             print(pileupread.query_position)\n",
    "#             print ('\\tbase in read %s = %s' %\n",
    "#                   (pileupread.alignment.query_name,\n",
    "#                    pileupread.alignment.query_sequence[pileupread.query_position]))"
   ]
  },
  {
   "cell_type": "code",
   "execution_count": null,
   "metadata": {},
   "outputs": [],
   "source": []
  },
  {
   "cell_type": "code",
   "execution_count": null,
   "metadata": {},
   "outputs": [],
   "source": [
    "import pysam\n",
    "from collections import Counter\n",
    "import pandas as pd\n",
    "samfile = pysam.AlignmentFile(\"/Users/SemiQuant/Downloads/BDQ_haplo/TB-B240-054_S26-bowtie2.bam\", \"rb\")\n",
    "\n",
    "# var_dic will be snps/indels, if also adding reference then edit the below\n",
    "# import numpy as np\n",
    "# vant = np.loadtxt(\"/Users/SemiQuant/Bioinformatics/Projects/Hasan/snps.tsv\", delimiter=\"\\t\", \n",
    "#           dtype={'names': ('CHROM', 'POS', 'REF', 'ALT', 'TYPE'),\n",
    "#           'formats': ('<U100', 'int', 'U10', 'U10', 'U10')}, skiprows=1)\n",
    "var_dic = {}\n",
    "with open(\"/Users/SemiQuant/Bioinformatics/Projects/Hasan/snps.tsv\") as f:\n",
    "    next(f) # skip header line\n",
    "    for line in f:\n",
    "        (CHROM, POS, REF, ALT, TYPE) = line.split()\n",
    "        try:\n",
    "            var_dic[CHROM][int(POS)].setdefault('call', []).append(ALT)\n",
    "        except:\n",
    "            try:\n",
    "                var_dic[CHROM][int(POS)] = {'call' : [ALT]}\n",
    "            except:\n",
    "                var_dic[CHROM] = {int(POS) : {'call' : [ALT]}}\n"
   ]
  },
  {
   "cell_type": "code",
   "execution_count": null,
   "metadata": {},
   "outputs": [],
   "source": [
    "var_dic"
   ]
  },
  {
   "cell_type": "code",
   "execution_count": null,
   "metadata": {},
   "outputs": [],
   "source": []
  },
  {
   "cell_type": "code",
   "execution_count": null,
   "metadata": {},
   "outputs": [],
   "source": [
    "for chrom in var_dic:\n",
    "    if chrom not in samfile.references:\n",
    "        print(chrom, \" not found in bam file!\")\n",
    "    else:\n",
    "        for i in var_dic[chrom]:\n",
    "            for pileupcolumn in samfile.pileup(chrom, i, i+1):\n",
    "                for pileupread in pileupcolumn.pileups:\n",
    "                    if pileupread.query_position == i:\n",
    "                        if not pileupread.is_del: # if reference then add\n",
    "                            read_call_tmp = pileupread.alignment.query_sequence[pileupread.query_position]\n",
    "                            try:\n",
    "                                #  check if it matches the call in there as pairs have same name\n",
    "                                if read_call_tmp == var_dic[chrom][i][pileupread.alignment.query_name]:\n",
    "                                    break\n",
    "                                else:\n",
    "                                    var_dic[chrom][i][pileupread.alignment.query_name] = \"N\"\n",
    "                            except:\n",
    "                                if pileupread.is_refskip == 0: # if reference then add, not sure if this is working\n",
    "                                    var_dic[chrom][i][pileupread.alignment.query_name] = read_call_tmp\n",
    "                                elif read_call_tmp in var_dic[chrom][i][\"call\"]:\n",
    "                                    var_dic[chrom][i][pileupread.alignment.query_name] = read_call_tmp\n",
    "                                else:\n",
    "                                    var_dic[chrom][i][pileupread.alignment.query_name] = \"N\"\n",
    "                        else:\n",
    "                            try:\n",
    "                                #  check if it matches the call in there as pairs have same name\n",
    "                                if read_call_tmp == var_dic[chrom][i][pileupread.alignment.query_name]:\n",
    "                                    break\n",
    "                                else:\n",
    "                                    var_dic[chrom][i][pileupread.alignment.query_name] = \"N\"\n",
    "                            except:\n",
    "                                if read_call_tmp == var_dic[chrom][i][pileupread.alignment.query_name]:\n",
    "                                    break\n",
    "                                else:\n",
    "                                    var_dic[chrom][i][pileupread.alignment.query_name] = \"-\"\n",
    "\n",
    "\n",
    "                                    "
   ]
  },
  {
   "cell_type": "code",
   "execution_count": null,
   "metadata": {},
   "outputs": [],
   "source": []
  },
  {
   "cell_type": "code",
   "execution_count": null,
   "metadata": {},
   "outputs": [],
   "source": [
    "var_df = pd.DataFrame.from_dict({(i,j): var_dic[i][j] \n",
    "                           for i in var_dic.keys() \n",
    "                           for j in var_dic[i].keys()},\n",
    "                       orient='columns')"
   ]
  },
  {
   "cell_type": "code",
   "execution_count": null,
   "metadata": {},
   "outputs": [],
   "source": [
    "var_df"
   ]
  },
  {
   "cell_type": "code",
   "execution_count": null,
   "metadata": {},
   "outputs": [],
   "source": [
    "var_df[1:]"
   ]
  },
  {
   "cell_type": "code",
   "execution_count": null,
   "metadata": {},
   "outputs": [],
   "source": []
  },
  {
   "cell_type": "code",
   "execution_count": null,
   "metadata": {},
   "outputs": [],
   "source": []
  },
  {
   "cell_type": "code",
   "execution_count": null,
   "metadata": {},
   "outputs": [],
   "source": []
  },
  {
   "cell_type": "code",
   "execution_count": null,
   "metadata": {},
   "outputs": [],
   "source": []
  },
  {
   "cell_type": "code",
   "execution_count": null,
   "metadata": {},
   "outputs": [],
   "source": []
  },
  {
   "cell_type": "code",
   "execution_count": null,
   "metadata": {},
   "outputs": [],
   "source": []
  },
  {
   "cell_type": "code",
   "execution_count": null,
   "metadata": {},
   "outputs": [],
   "source": []
  },
  {
   "cell_type": "code",
   "execution_count": null,
   "metadata": {},
   "outputs": [],
   "source": [
    "import pysam\n",
    "import numpy as np\n",
    "from collections import Counter\n",
    "vant = np.loadtxt(\"/Users/SemiQuant/Bioinformatics/Projects/Hasan/snps.tsv\", delimiter=\"\\t\", \n",
    "          dtype={'names': ('CHROM', 'POS', 'REF', 'ALT', 'TYPE'),\n",
    "          'formats': ('<U100', 'int', 'U10', 'U10', 'U10')}, skiprows=1)\n"
   ]
  },
  {
   "cell_type": "code",
   "execution_count": null,
   "metadata": {},
   "outputs": [],
   "source": [
    "vant"
   ]
  },
  {
   "cell_type": "code",
   "execution_count": null,
   "metadata": {},
   "outputs": [],
   "source": [
    "var_dic"
   ]
  },
  {
   "cell_type": "code",
   "execution_count": null,
   "metadata": {},
   "outputs": [],
   "source": [
    "chrom=\"rpoB\""
   ]
  },
  {
   "cell_type": "code",
   "execution_count": null,
   "metadata": {},
   "outputs": [],
   "source": [
    "var_dic[chrom][i]"
   ]
  },
  {
   "cell_type": "code",
   "execution_count": null,
   "metadata": {},
   "outputs": [],
   "source": []
  },
  {
   "cell_type": "code",
   "execution_count": 1,
   "metadata": {},
   "outputs": [],
   "source": [
    "import pysam\n",
    "from collections import Counter\n",
    "import pandas as pd\n",
    "samfile = pysam.AlignmentFile(\"/Users/SemiQuant/Bioinformatics/Projects/Hasan/test/test2/test_pairedBWA_sorted.bam\", \"rb\")\n",
    "\n",
    "# var_dic will be snps/indels, if also adding reference then edit the below\n",
    "# import numpy as np\n",
    "# vant = np.loadtxt(\"/Users/SemiQuant/Bioinformatics/Projects/Hasan/snps.tsv\", delimiter=\"\\t\", \n",
    "#           dtype={'names': ('CHROM', 'POS', 'REF', 'ALT', 'TYPE'),\n",
    "#           'formats': ('<U100', 'int', 'U10', 'U10', 'U10')}, skiprows=1)\n",
    "var_dic = {}\n",
    "# this is gross, but i dont really speak python \n",
    "with open(\"/Users/SemiQuant/Bioinformatics/Projects/Hasan/test/test2/snps.tsv\") as f:\n",
    "    next(f) # skip header line\n",
    "    for line in f:\n",
    "        (CHROM, POS, REF, ALT, TYPE) = line.split()\n",
    "        try:\n",
    "            var_dic[CHROM][int(POS)].setdefault('call', []).append(ALT)\n",
    "        except:\n",
    "            try:\n",
    "                var_dic[CHROM][int(POS)] = {'call' : [ALT]}\n",
    "            except:\n",
    "                var_dic[CHROM] = {int(POS) : {'call' : [ALT]}}\n"
   ]
  },
  {
   "cell_type": "code",
   "execution_count": 2,
   "metadata": {},
   "outputs": [
    {
     "data": {
      "text/plain": [
       "{'rv0678_500': {490: {'call': ['A']}, 874: {'call': ['C']}}}"
      ]
     },
     "execution_count": 2,
     "metadata": {},
     "output_type": "execute_result"
    }
   ],
   "source": [
    "var_dic"
   ]
  },
  {
   "cell_type": "code",
   "execution_count": 3,
   "metadata": {},
   "outputs": [],
   "source": [
    "# this is like this as I dont really know pysam and how to do it cleaner, with also getting readnames\n",
    "for chrom in var_dic:\n",
    "    if chrom not in samfile.references:\n",
    "        print(chrom, \" not found in bam file!\")\n",
    "    else:\n",
    "        for i in var_dic[chrom]:\n",
    "            for pileupcolumn in samfile.pileup(chrom, i, i+1):\n",
    "                for pileupread in pileupcolumn.pileups:\n",
    "                    try:\n",
    "                        if pileupread.alignment.get_reference_positions()[pileupread.query_position] == i:\n",
    "                        # if pileupread.query_position == i:\n",
    "#                             print(not pileupread.is_del)\n",
    "                            if not pileupread.is_del: # if reference then add\n",
    "                                read_call_tmp = pileupread.alignment.query_sequence[pileupread.query_position]\n",
    "                                try:\n",
    "                                    #  check if it matches the call in there as pairs have same name\n",
    "                                    if read_call_tmp == var_dic[chrom][i][pileupread.alignment.query_name]:\n",
    "#                                         print(\"a\")\n",
    "                                        break\n",
    "                                    else:\n",
    "                                        var_dic[chrom][i][pileupread.alignment.query_name] = \"N\"\n",
    "                                except:\n",
    "                                    if pileupread.is_refskip:\n",
    "                                        var_dic[chrom][i][pileupread.alignment.query_name] = read_call_tmp\n",
    "#                                         print(\"1\")\n",
    "                                    elif read_call_tmp in var_dic[chrom][i][\"call\"]:\n",
    "                                        print(var_dic[chrom][i][pileupread.alignment.query_name])\n",
    "                                        print(read_call_tmp)\n",
    "                                        var_dic[chrom][i][pileupread.alignment.query_name] = read_call_tmp\n",
    "                                        print(\"2\")\n",
    "                                    else:\n",
    "                                        var_dic[chrom][i][pileupread.alignment.query_name] = \"N\"\n",
    "#                                         print(\"3\")\n",
    "                            else:\n",
    "                                try:\n",
    "                                    #  check if it matches the call in there as pairs have same name\n",
    "                                    if read_call_tmp == var_dic[chrom][i][pileupread.alignment.query_name]:\n",
    "#                                         print(\"4\")\n",
    "                                        break\n",
    "                                    else:\n",
    "                                        var_dic[chrom][i][pileupread.alignment.query_name] = \"N\"\n",
    "#                                         print(\"5\")\n",
    "                                except:\n",
    "                                    if read_call_tmp == var_dic[chrom][i][pileupread.alignment.query_name]:\n",
    "#                                         print(\"6\")\n",
    "                                        break\n",
    "                                    else:\n",
    "                                        var_dic[chrom][i][pileupread.alignment.query_name] = \"-\"\n",
    "#                                         print(\"7\")\n",
    "                    except:\n",
    "                        pass\n"
   ]
  },
  {
   "cell_type": "code",
   "execution_count": null,
   "metadata": {},
   "outputs": [],
   "source": [
    "print(\"test\")"
   ]
  },
  {
   "cell_type": "code",
   "execution_count": 4,
   "metadata": {},
   "outputs": [],
   "source": [
    "\n",
    "# var_df = pd.DataFrame.from_dict(var_dic)\n",
    "# var_df.reset_index(drop=True, inplace=True)\n",
    "# var_df = var_df[1:]\n",
    "var_df = pd.DataFrame.from_dict({(i,j): var_dic[i][j] \n",
    "                           for i in var_dic.keys() \n",
    "                           for j in var_dic[i].keys()},\n",
    "                       orient='columns')\n",
    "var_df.columns = var_df.columns.to_flat_index()\n",
    "# var_df.columns = [' '.join(str(col)).strip() for col in var_df.columns.values]\n",
    "var_df = var_df[1:]"
   ]
  },
  {
   "cell_type": "code",
   "execution_count": 5,
   "metadata": {},
   "outputs": [
    {
     "data": {
      "text/html": [
       "<div>\n",
       "<style scoped>\n",
       "    .dataframe tbody tr th:only-of-type {\n",
       "        vertical-align: middle;\n",
       "    }\n",
       "\n",
       "    .dataframe tbody tr th {\n",
       "        vertical-align: top;\n",
       "    }\n",
       "\n",
       "    .dataframe thead th {\n",
       "        text-align: right;\n",
       "    }\n",
       "</style>\n",
       "<table border=\"1\" class=\"dataframe\">\n",
       "  <thead>\n",
       "    <tr style=\"text-align: right;\">\n",
       "      <th></th>\n",
       "      <th>(rv0678_500, 490)</th>\n",
       "      <th>(rv0678_500, 874)</th>\n",
       "    </tr>\n",
       "  </thead>\n",
       "  <tbody>\n",
       "    <tr>\n",
       "      <th>M02061:126:000000000-BVK9B:1:2109:27058:6047</th>\n",
       "      <td>N</td>\n",
       "      <td>NaN</td>\n",
       "    </tr>\n",
       "    <tr>\n",
       "      <th>M02061:126:000000000-BVK9B:1:2108:29250:16269</th>\n",
       "      <td>N</td>\n",
       "      <td>NaN</td>\n",
       "    </tr>\n",
       "    <tr>\n",
       "      <th>M02061:126:000000000-BVK9B:1:1114:3021:7422</th>\n",
       "      <td>N</td>\n",
       "      <td>NaN</td>\n",
       "    </tr>\n",
       "    <tr>\n",
       "      <th>M02061:126:000000000-BVK9B:1:2113:9325:3958</th>\n",
       "      <td>N</td>\n",
       "      <td>NaN</td>\n",
       "    </tr>\n",
       "    <tr>\n",
       "      <th>M02061:126:000000000-BVK9B:1:2108:17271:16043</th>\n",
       "      <td>N</td>\n",
       "      <td>NaN</td>\n",
       "    </tr>\n",
       "    <tr>\n",
       "      <th>...</th>\n",
       "      <td>...</td>\n",
       "      <td>...</td>\n",
       "    </tr>\n",
       "    <tr>\n",
       "      <th>M02061:126:000000000-BVK9B:1:1109:5121:13900</th>\n",
       "      <td>NaN</td>\n",
       "      <td>N</td>\n",
       "    </tr>\n",
       "    <tr>\n",
       "      <th>M02061:126:000000000-BVK9B:1:1109:5237:7883</th>\n",
       "      <td>NaN</td>\n",
       "      <td>N</td>\n",
       "    </tr>\n",
       "    <tr>\n",
       "      <th>M02061:126:000000000-BVK9B:1:1109:5445:18025</th>\n",
       "      <td>NaN</td>\n",
       "      <td>N</td>\n",
       "    </tr>\n",
       "    <tr>\n",
       "      <th>M02061:126:000000000-BVK9B:1:1109:5503:14303</th>\n",
       "      <td>NaN</td>\n",
       "      <td>N</td>\n",
       "    </tr>\n",
       "    <tr>\n",
       "      <th>M02061:126:000000000-BVK9B:1:1101:9936:2899</th>\n",
       "      <td>NaN</td>\n",
       "      <td>N</td>\n",
       "    </tr>\n",
       "  </tbody>\n",
       "</table>\n",
       "<p>5602 rows × 2 columns</p>\n",
       "</div>"
      ],
      "text/plain": [
       "                                              (rv0678_500, 490)  \\\n",
       "M02061:126:000000000-BVK9B:1:2109:27058:6047                  N   \n",
       "M02061:126:000000000-BVK9B:1:2108:29250:16269                 N   \n",
       "M02061:126:000000000-BVK9B:1:1114:3021:7422                   N   \n",
       "M02061:126:000000000-BVK9B:1:2113:9325:3958                   N   \n",
       "M02061:126:000000000-BVK9B:1:2108:17271:16043                 N   \n",
       "...                                                         ...   \n",
       "M02061:126:000000000-BVK9B:1:1109:5121:13900                NaN   \n",
       "M02061:126:000000000-BVK9B:1:1109:5237:7883                 NaN   \n",
       "M02061:126:000000000-BVK9B:1:1109:5445:18025                NaN   \n",
       "M02061:126:000000000-BVK9B:1:1109:5503:14303                NaN   \n",
       "M02061:126:000000000-BVK9B:1:1101:9936:2899                 NaN   \n",
       "\n",
       "                                              (rv0678_500, 874)  \n",
       "M02061:126:000000000-BVK9B:1:2109:27058:6047                NaN  \n",
       "M02061:126:000000000-BVK9B:1:2108:29250:16269               NaN  \n",
       "M02061:126:000000000-BVK9B:1:1114:3021:7422                 NaN  \n",
       "M02061:126:000000000-BVK9B:1:2113:9325:3958                 NaN  \n",
       "M02061:126:000000000-BVK9B:1:2108:17271:16043               NaN  \n",
       "...                                                         ...  \n",
       "M02061:126:000000000-BVK9B:1:1109:5121:13900                  N  \n",
       "M02061:126:000000000-BVK9B:1:1109:5237:7883                   N  \n",
       "M02061:126:000000000-BVK9B:1:1109:5445:18025                  N  \n",
       "M02061:126:000000000-BVK9B:1:1109:5503:14303                  N  \n",
       "M02061:126:000000000-BVK9B:1:1101:9936:2899                   N  \n",
       "\n",
       "[5602 rows x 2 columns]"
      ]
     },
     "execution_count": 5,
     "metadata": {},
     "output_type": "execute_result"
    }
   ],
   "source": [
    "var_df"
   ]
  },
  {
   "cell_type": "code",
   "execution_count": null,
   "metadata": {},
   "outputs": [],
   "source": [
    "for chrom in var_dic:\n",
    "    if chrom not in samfile.references:\n",
    "        print(chrom, \" not found in bam file!\")\n",
    "    else:\n",
    "        for i in var_dic[chrom]:\n",
    "            for pileupcolumn in samfile.pileup(chrom, i, i+1):\n",
    "                for pileupread in pileupcolumn.pileups:\n",
    "                    if not pileupread.is_refskip:\n",
    "                        print(\"test\")\n",
    "\n",
    "\n"
   ]
  },
  {
   "cell_type": "code",
   "execution_count": 3,
   "metadata": {},
   "outputs": [
    {
     "name": "stdout",
     "output_type": "stream",
     "text": [
      "test\n"
     ]
    }
   ],
   "source": [
    "print(\"test\")"
   ]
  },
  {
   "cell_type": "code",
   "execution_count": 2,
   "metadata": {},
   "outputs": [
    {
     "name": "stderr",
     "output_type": "stream",
     "text": [
      "[E::hts_open_format] Failed to open file \"/Users/SemiQuant/Downloads/BDQ_haplo/TB-B240-054_S26-bowtie2.bam\" : No such file or directory\n"
     ]
    },
    {
     "ename": "FileNotFoundError",
     "evalue": "[Errno 2] could not open alignment file `/Users/SemiQuant/Downloads/BDQ_haplo/TB-B240-054_S26-bowtie2.bam`: No such file or directory",
     "output_type": "error",
     "traceback": [
      "\u001b[0;31m---------------------------------------------------------------------------\u001b[0m",
      "\u001b[0;31mFileNotFoundError\u001b[0m                         Traceback (most recent call last)",
      "Input \u001b[0;32mIn [2]\u001b[0m, in \u001b[0;36m<cell line: 4>\u001b[0;34m()\u001b[0m\n\u001b[1;32m      2\u001b[0m \u001b[38;5;28;01mfrom\u001b[39;00m \u001b[38;5;21;01mcollections\u001b[39;00m \u001b[38;5;28;01mimport\u001b[39;00m Counter\n\u001b[1;32m      3\u001b[0m \u001b[38;5;28;01mimport\u001b[39;00m \u001b[38;5;21;01mpandas\u001b[39;00m \u001b[38;5;28;01mas\u001b[39;00m \u001b[38;5;21;01mpd\u001b[39;00m\n\u001b[0;32m----> 4\u001b[0m samfile \u001b[38;5;241m=\u001b[39m \u001b[43mpysam\u001b[49m\u001b[38;5;241;43m.\u001b[39;49m\u001b[43mAlignmentFile\u001b[49m\u001b[43m(\u001b[49m\u001b[38;5;124;43m\"\u001b[39;49m\u001b[38;5;124;43m/Users/SemiQuant/Downloads/BDQ_haplo/TB-B240-054_S26-bowtie2.bam\u001b[39;49m\u001b[38;5;124;43m\"\u001b[39;49m\u001b[43m,\u001b[49m\u001b[43m \u001b[49m\u001b[38;5;124;43m\"\u001b[39;49m\u001b[38;5;124;43mrb\u001b[39;49m\u001b[38;5;124;43m\"\u001b[39;49m\u001b[43m)\u001b[49m\n\u001b[1;32m      6\u001b[0m \u001b[38;5;66;03m# var_dic will be snps/indels, if also adding reference then edit the below\u001b[39;00m\n\u001b[1;32m      7\u001b[0m \u001b[38;5;66;03m# import numpy as np\u001b[39;00m\n\u001b[1;32m      8\u001b[0m \u001b[38;5;66;03m# vant = np.loadtxt(\"/Users/SemiQuant/Bioinformatics/Projects/Hasan/snps.tsv\", delimiter=\"\\t\", \u001b[39;00m\n\u001b[1;32m      9\u001b[0m \u001b[38;5;66;03m#           dtype={'names': ('CHROM', 'POS', 'REF', 'ALT', 'TYPE'),\u001b[39;00m\n\u001b[1;32m     10\u001b[0m \u001b[38;5;66;03m#           'formats': ('<U100', 'int', 'U10', 'U10', 'U10')}, skiprows=1)\u001b[39;00m\n\u001b[1;32m     11\u001b[0m var_dic \u001b[38;5;241m=\u001b[39m {}\n",
      "File \u001b[0;32mpysam/libcalignmentfile.pyx:751\u001b[0m, in \u001b[0;36mpysam.libcalignmentfile.AlignmentFile.__cinit__\u001b[0;34m()\u001b[0m\n",
      "File \u001b[0;32mpysam/libcalignmentfile.pyx:950\u001b[0m, in \u001b[0;36mpysam.libcalignmentfile.AlignmentFile._open\u001b[0;34m()\u001b[0m\n",
      "\u001b[0;31mFileNotFoundError\u001b[0m: [Errno 2] could not open alignment file `/Users/SemiQuant/Downloads/BDQ_haplo/TB-B240-054_S26-bowtie2.bam`: No such file or directory"
     ]
    }
   ],
   "source": [
    "import pysam\n",
    "from collections import Counter\n",
    "import pandas as pd\n",
    "samfile = pysam.AlignmentFile(\"/Users/semiquant/Bioinformatics/Projects/Hasan/test/test1.bam\", \"rb\")\n",
    "\n",
    "# var_dic will be snps/indels, if also adding reference then edit the below\n",
    "# import numpy as np\n",
    "# vant = np.loadtxt(\"/Users/SemiQuant/Bioinformatics/Projects/Hasan/snps.tsv\", delimiter=\"\\t\", \n",
    "#           dtype={'names': ('CHROM', 'POS', 'REF', 'ALT', 'TYPE'),\n",
    "#           'formats': ('<U100', 'int', 'U10', 'U10', 'U10')}, skiprows=1)\n",
    "var_dic = {}\n",
    "# this is gross, but i dont really speak python \n",
    "# with open(\"/Users/SemiQuant/Bioinformatics/Projects/Hasan/snps.tsv\") as f:\n",
    "with open(\"/Users/SemiQuant/Bioinformatics/Projects/Hasan/test/test2/snps.tsv\") as f:\n",
    "    next(f) # skip header line\n",
    "    for line in f:\n",
    "        (CHROM, POS, REF, ALT, TYPE) = line.split()\n",
    "        try:\n",
    "            var_dic[CHROM][int(POS)].setdefault('call', []).append(ALT)\n",
    "        except:\n",
    "            try:\n",
    "                var_dic[CHROM][int(POS)] = {'call' : [ALT]}\n",
    "            except:\n",
    "                var_dic[CHROM] = {int(POS) : {'call' : [ALT]}}\n",
    "\n",
    "# var_dic={'rpoC': {1221: {'call': ['T']}}, 'Rv0678_amplicon4': {111: {'call': ['A', 'G', 'G', 'T']}, 112: {'call': ['G', '-']}, 114: {'call': ['C']}, 116: {'call': ['C']}}}var_dic={'rpoC': {1221: {'call': ['T']}}, 'Rv0678_amplicon4': {111: {'call': ['A', 'G', 'G', 'T']}, 112: {'call': ['G', '-']}, 114: {'call': ['C']}, 116: {'call': ['C']}}}\n",
    "\n",
    "# this is like this as I dont really know pysam and how to do it cleaner, with also getting readnames\n",
    "for chrom in var_dic:\n",
    "    if chrom not in samfile.references:\n",
    "        print(chrom, \" not found in bam file!\")\n",
    "    else:\n",
    "        for i in var_dic[chrom]:\n",
    "            for pileupcolumn in samfile.pileup(chrom, i, i+1):\n",
    "                for pileupread in pileupcolumn.pileups:\n",
    "                    try:\n",
    "                        if pileupread.alignment.get_reference_positions()[pileupread.query_position] == i:\n",
    "                        # if pileupread.query_position == i:\n",
    "                            if not pileupread.is_del: # if reference then add\n",
    "                                read_call_tmp = pileupread.alignment.query_sequence[pileupread.query_position]\n",
    "                                try:\n",
    "                                    #  check if it matches the call in there as pairs have same name\n",
    "                                    if read_call_tmp == var_dic[chrom][i][pileupread.alignment.query_name]:\n",
    "                                        break\n",
    "                                    else:\n",
    "                                        var_dic[chrom][i][pileupread.alignment.query_name] = \"N\"\n",
    "                                except:\n",
    "                                    if read_call_tmp in var_dic[chrom][i][\"call\"]:\n",
    "                                        var_dic[chrom][i][pileupread.alignment.query_name] = read_call_tmp\n",
    "                                    else:\n",
    "                                        var_dic[chrom][i][pileupread.alignment.query_name] = \"N\"\n",
    "                                # elif not pileupread.is_refskip: #if reference then add, not sure if this is working, it isnt so adding the reference to the dic?\n",
    "                                #         var_dic[chrom][i][pileupread.alignment.query_name] = read_call_tmp\n",
    "                            else:\n",
    "                                try:\n",
    "                                    #  check if it matches the call in there as pairs have same name\n",
    "                                    if read_call_tmp == var_dic[chrom][i][pileupread.alignment.query_name]:\n",
    "                                        break\n",
    "                                    else:\n",
    "                                        var_dic[chrom][i][pileupread.alignment.query_name] = \"N\"\n",
    "                                except:\n",
    "                                    if read_call_tmp == var_dic[chrom][i][pileupread.alignment.query_name]:\n",
    "                                        break\n",
    "                                    else:\n",
    "                                        var_dic[chrom][i][pileupread.alignment.query_name] = \"-\"\n",
    "                    except:\n",
    "                        pass\n",
    "\n",
    "# var_df = pd.DataFrame.from_dict(var_dic)\n",
    "# var_df.reset_index(drop=True, inplace=True)\n",
    "# var_df = var_df[1:]\n",
    "var_df = pd.DataFrame.from_dict({(i,j): var_dic[i][j] \n",
    "                           for i in var_dic.keys() \n",
    "                           for j in var_dic[i].keys()},\n",
    "                       orient='columns')\n",
    "var_df.columns = var_df.columns.to_flat_index()\n",
    "# var_df.columns = [' '.join(str(col)).strip() for col in var_df.columns.values]\n",
    "var_df = var_df[1:]\n",
    "\n",
    "# make this happen in the above rather\n",
    "cnms = []\n",
    "for col in var_df.columns.values:\n",
    "    cnms.append(col[0] + \"_\" + str(col[1]))\n",
    "\n",
    "var_df.columns = cnms"
   ]
  },
  {
   "cell_type": "code",
   "execution_count": 6,
   "metadata": {},
   "outputs": [],
   "source": []
  },
  {
   "cell_type": "code",
   "execution_count": null,
   "metadata": {},
   "outputs": [],
   "source": [
    "var_df.to_pickle(\"/Users/semiquant/Bioinformatics/Projects/Hasan/test/var_df2.pkl\")"
   ]
  }
 ],
 "metadata": {
  "kernelspec": {
   "display_name": "Python [conda env:root] *",
   "language": "python",
   "name": "conda-root-py"
  },
  "language_info": {
   "codemirror_mode": {
    "name": "ipython",
    "version": 3
   },
   "file_extension": ".py",
   "mimetype": "text/x-python",
   "name": "python",
   "nbconvert_exporter": "python",
   "pygments_lexer": "ipython3",
   "version": "3.9.12"
  }
 },
 "nbformat": 4,
 "nbformat_minor": 4
}
