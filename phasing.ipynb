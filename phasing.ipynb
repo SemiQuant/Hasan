{
 "cells": [
  {
   "cell_type": "code",
   "execution_count": 35,
   "metadata": {},
   "outputs": [
    {
     "name": "stdout",
     "output_type": "stream",
     "text": [
      "rpoC  not found in bam file!\n"
     ]
    }
   ],
   "source": [
    "import pysam\n",
    "import numpy as np\n",
    "from collections import Counter\n",
    "vant = np.loadtxt(\"/Users/SemiQuant/Bioinformatics/Projects/Hasan/snps.tsv\", delimiter=\"\\t\", \n",
    "          dtype={'names': ('CHROM', 'POS', 'REF', 'ALT', 'TYPE'),\n",
    "          'formats': ('<U100', 'int', 'U10', 'U10', 'U10')}, skiprows=1)\n",
    "\n",
    "# input file is the reference name, reference based positions and mutations and type\n",
    "\n",
    "samfile = pysam.AlignmentFile(\"/Users/SemiQuant/Downloads/test/test.bam\", \"rb\")\n",
    "\n",
    "# TODO\n",
    "# add in procedures for indels\n",
    "# add in better output format, make it a matrix\n",
    "# add in reference sequence so can determine more info later\n",
    "\n",
    "\n",
    "phase_out = []\n",
    "for chrom in set(vant[\"CHROM\"]):\n",
    "    seq_out = []\n",
    "    pos = vant[\"POS\"][vant[\"CHROM\"] == chrom]\n",
    "    call = vant[\"ALT\"][vant[\"CHROM\"] == chrom]\n",
    "    ref = vant[\"REF\"][vant[\"CHROM\"] == chrom]\n",
    "    try:\n",
    "        for read in samfile.fetch(chrom, until_eof=True):\n",
    "            try:\n",
    "                #convert to positions in the read\n",
    "                pos_conv = read.query_alignment_start + read.get_reference_positions()[0] #unaligned leading bases + position of first alignment on reference\n",
    "                pos_conv = pos - pos_conv\n",
    "                phase = \"\"\n",
    "                call_c = 0\n",
    "                for p in pos_conv:\n",
    "                    try:\n",
    "                        # we dont want any bases that were filtered out so only take those that match the input\n",
    "                        if read.query_sequence[p] in call[call_c].split(',') or read.query_sequence[p] == ref[call_c]: # in case more than on allele\n",
    "                            phase += read.query_sequence[p]\n",
    "                        else:\n",
    "                            phase += \"N\"\n",
    "                    except Exception:\n",
    "                        phase += \"N\"\n",
    "                    call_c += 1\n",
    "                seq_out.append(phase)\n",
    "            except Exception:\n",
    "                continue\n",
    "        # phase_out.append([[chrom], [Counter(seq_out)]])\n",
    "        phase_out.append([[chrom], list(Counter(seq_out).items())])\n",
    "    except Exception:\n",
    "        print(chrom, \" not found in bam file!\")"
   ]
  },
  {
   "cell_type": "code",
   "execution_count": null,
   "metadata": {},
   "outputs": [],
   "source": [
    "phase_out"
   ]
  },
  {
   "cell_type": "code",
   "execution_count": null,
   "metadata": {},
   "outputs": [],
   "source": []
  },
  {
   "cell_type": "code",
   "execution_count": 115,
   "metadata": {},
   "outputs": [],
   "source": [
    "import pysam\n",
    "import numpy as np\n",
    "from collections import Counter\n",
    "samfile = pysam.AlignmentFile(\"/Users/SemiQuant/Downloads/BDQ_haplo/TB-B240-054_S26-bowtie2.bam\", \"rb\")\n"
   ]
  },
  {
   "cell_type": "code",
   "execution_count": 117,
   "metadata": {},
   "outputs": [],
   "source": [
    "count=0\n",
    "for read in samfile.fetch(until_eof=True):\n",
    "    count+=1\n",
    "    if read.qname == 'M02061:126:000000000-BVK9B:1:1102:15579:11359':\n",
    "        for cigar_operations in read.cigar:\n",
    "            (type_cigar_op,length_cigar_op)=cigar_operations\n",
    "            print(cigar_operations)\n",
    "            print(type_cigar_op)\n",
    "\n",
    "#             print(read.query_sequence[p])\n",
    "#                 if type_cigar_op==2 :# DELETION\n",
    "#         for p in range(0, 240):\n",
    "#             print(read.query_alignment_start)\n",
    "#             print(p)\n",
    "#             print(read.query_sequence[p])\n",
    "                    \n",
    "#     if count >10:\n",
    "#         break"
   ]
  },
  {
   "cell_type": "code",
   "execution_count": 83,
   "metadata": {},
   "outputs": [],
   "source": []
  },
  {
   "cell_type": "code",
   "execution_count": 140,
   "metadata": {},
   "outputs": [
    {
     "ename": "SyntaxError",
     "evalue": "unexpected EOF while parsing (<ipython-input-140-83bc4e11ba6b>, line 9)",
     "output_type": "error",
     "traceback": [
      "\u001b[0;36m  File \u001b[0;32m\"<ipython-input-140-83bc4e11ba6b>\"\u001b[0;36m, line \u001b[0;32m9\u001b[0m\n\u001b[0;31m    #                    pileupread.alignment.query_sequence[pileupread.query_position]))\u001b[0m\n\u001b[0m                                                                                         ^\u001b[0m\n\u001b[0;31mSyntaxError\u001b[0m\u001b[0;31m:\u001b[0m unexpected EOF while parsing\n"
     ]
    }
   ],
   "source": [
    "for pileupcolumn in samfile.pileup('Rv0678_amplicon4', 111, 112):\n",
    "    for pileupread in pileupcolumn.pileups:\n",
    "        #so this is each base in the read in the pileup\n",
    "        if pileupread.alignment.query_name == 'M02061:126:000000000-BVK9B:1:1102:15579:11359':\n",
    "#             print(pileupread)\n",
    "#             print(pileupread.query_position)\n",
    "#             print ('\\tbase in read %s = %s' %\n",
    "#                   (pileupread.alignment.query_name,\n",
    "#                    pileupread.alignment.query_sequence[pileupread.query_position]))"
   ]
  },
  {
   "cell_type": "code",
   "execution_count": 311,
   "metadata": {},
   "outputs": [
    {
     "data": {
      "text/plain": [
       "False"
      ]
     },
     "execution_count": 311,
     "metadata": {},
     "output_type": "execute_result"
    }
   ],
   "source": []
  },
  {
   "cell_type": "code",
   "execution_count": 146,
   "metadata": {},
   "outputs": [],
   "source": [
    "import pysam\n",
    "from collections import Counter\n",
    "import pandas as pd\n",
    "samfile = pysam.AlignmentFile(\"/Users/SemiQuant/Downloads/BDQ_haplo/TB-B240-054_S26-bowtie2.bam\", \"rb\")\n",
    "\n",
    "# var_dic will be snps/indels, if also adding reference then edit the below\n",
    "# import numpy as np\n",
    "# vant = np.loadtxt(\"/Users/SemiQuant/Bioinformatics/Projects/Hasan/snps.tsv\", delimiter=\"\\t\", \n",
    "#           dtype={'names': ('CHROM', 'POS', 'REF', 'ALT', 'TYPE'),\n",
    "#           'formats': ('<U100', 'int', 'U10', 'U10', 'U10')}, skiprows=1)\n",
    "var_dic = {}\n",
    "with open(\"/Users/SemiQuant/Bioinformatics/Projects/Hasan/snps.tsv\") as f:\n",
    "    next(f) # skip header line\n",
    "    for line in f:\n",
    "        (CHROM, POS, REF, ALT, TYPE) = line.split()\n",
    "        try:\n",
    "            var_dic[CHROM][int(POS)].setdefault('call', []).append(ALT)\n",
    "        except:\n",
    "            try:\n",
    "                var_dic[CHROM][int(POS)] = {'call' : [ALT]}\n",
    "            except:\n",
    "                var_dic[CHROM] = {int(POS) : {'call' : [ALT]}}\n"
   ]
  },
  {
   "cell_type": "code",
   "execution_count": 154,
   "metadata": {},
   "outputs": [],
   "source": [
    "var_dic"
   ]
  },
  {
   "cell_type": "code",
   "execution_count": null,
   "metadata": {},
   "outputs": [],
   "source": []
  },
  {
   "cell_type": "code",
   "execution_count": 148,
   "metadata": {},
   "outputs": [
    {
     "name": "stdout",
     "output_type": "stream",
     "text": [
      "rpoC  not found in bam file!\n"
     ]
    }
   ],
   "source": [
    "for chrom in var_dic:\n",
    "    if chrom not in samfile.references:\n",
    "        print(chrom, \" not found in bam file!\")\n",
    "    else:\n",
    "        for i in var_dic[chrom]:\n",
    "            for pileupcolumn in samfile.pileup(chrom, i, i+1):\n",
    "                for pileupread in pileupcolumn.pileups:\n",
    "                    if pileupread.query_position == i:\n",
    "                        if not pileupread.is_del: # if reference then add\n",
    "                            read_call_tmp = pileupread.alignment.query_sequence[pileupread.query_position]\n",
    "                            try:\n",
    "                                #  check if it matches the call in there as pairs have same name\n",
    "                                if read_call_tmp == var_dic[chrom][i][pileupread.alignment.query_name]:\n",
    "                                    break\n",
    "                                else:\n",
    "                                    var_dic[chrom][i][pileupread.alignment.query_name] = \"N\"\n",
    "                            except:\n",
    "                                if pileupread.is_refskip == 0: # if reference then add, not sure if this is working\n",
    "                                    var_dic[chrom][i][pileupread.alignment.query_name] = read_call_tmp\n",
    "                                elif read_call_tmp in var_dic[chrom][i][\"call\"]:\n",
    "                                    var_dic[chrom][i][pileupread.alignment.query_name] = read_call_tmp\n",
    "                                else:\n",
    "                                    var_dic[chrom][i][pileupread.alignment.query_name] = \"N\"\n",
    "                        else:\n",
    "                            try:\n",
    "                                #  check if it matches the call in there as pairs have same name\n",
    "                                if read_call_tmp == var_dic[chrom][i][pileupread.alignment.query_name]:\n",
    "                                    break\n",
    "                                else:\n",
    "                                    var_dic[chrom][i][pileupread.alignment.query_name] = \"N\"\n",
    "                            except:\n",
    "                                if read_call_tmp == var_dic[chrom][i][pileupread.alignment.query_name]:\n",
    "                                    break\n",
    "                                else:\n",
    "                                    var_dic[chrom][i][pileupread.alignment.query_name] = \"-\"\n",
    "\n",
    "\n",
    "                                    "
   ]
  },
  {
   "cell_type": "code",
   "execution_count": 150,
   "metadata": {},
   "outputs": [
    {
     "name": "stdout",
     "output_type": "stream",
     "text": [
      "111\n",
      "112\n",
      "114\n",
      "116\n"
     ]
    }
   ],
   "source": []
  },
  {
   "cell_type": "code",
   "execution_count": 151,
   "metadata": {},
   "outputs": [],
   "source": [
    "var_df = pd.DataFrame.from_dict({(i,j): var_dic[i][j] \n",
    "                           for i in var_dic.keys() \n",
    "                           for j in var_dic[i].keys()},\n",
    "                       orient='columns')"
   ]
  },
  {
   "cell_type": "code",
   "execution_count": null,
   "metadata": {},
   "outputs": [],
   "source": [
    "var_df"
   ]
  },
  {
   "cell_type": "code",
   "execution_count": null,
   "metadata": {},
   "outputs": [],
   "source": [
    "var_df[1:]"
   ]
  },
  {
   "cell_type": "code",
   "execution_count": null,
   "metadata": {},
   "outputs": [],
   "source": []
  },
  {
   "cell_type": "code",
   "execution_count": null,
   "metadata": {},
   "outputs": [],
   "source": []
  },
  {
   "cell_type": "code",
   "execution_count": null,
   "metadata": {},
   "outputs": [],
   "source": []
  },
  {
   "cell_type": "code",
   "execution_count": null,
   "metadata": {},
   "outputs": [],
   "source": []
  },
  {
   "cell_type": "code",
   "execution_count": null,
   "metadata": {},
   "outputs": [],
   "source": []
  },
  {
   "cell_type": "code",
   "execution_count": null,
   "metadata": {},
   "outputs": [],
   "source": []
  },
  {
   "cell_type": "code",
   "execution_count": null,
   "metadata": {},
   "outputs": [],
   "source": []
  },
  {
   "cell_type": "code",
   "execution_count": null,
   "metadata": {},
   "outputs": [],
   "source": [
    "import pysam\n",
    "import numpy as np\n",
    "from collections import Counter\n",
    "vant = np.loadtxt(\"/Users/SemiQuant/Bioinformatics/Projects/Hasan/snps.tsv\", delimiter=\"\\t\", \n",
    "          dtype={'names': ('CHROM', 'POS', 'REF', 'ALT', 'TYPE'),\n",
    "          'formats': ('<U100', 'int', 'U10', 'U10', 'U10')}, skiprows=1)\n"
   ]
  },
  {
   "cell_type": "code",
   "execution_count": null,
   "metadata": {},
   "outputs": [],
   "source": [
    "vant"
   ]
  },
  {
   "cell_type": "code",
   "execution_count": null,
   "metadata": {},
   "outputs": [],
   "source": [
    "var_dic"
   ]
  },
  {
   "cell_type": "code",
   "execution_count": 32,
   "metadata": {},
   "outputs": [],
   "source": [
    "chrom=\"rpoB\""
   ]
  },
  {
   "cell_type": "code",
   "execution_count": 35,
   "metadata": {},
   "outputs": [
    {
     "data": {
      "text/plain": [
       "['G']"
      ]
     },
     "execution_count": 35,
     "metadata": {},
     "output_type": "execute_result"
    }
   ],
   "source": [
    "var_dic[chrom][i]"
   ]
  },
  {
   "cell_type": "code",
   "execution_count": null,
   "metadata": {},
   "outputs": [],
   "source": []
  }
 ],
 "metadata": {
  "kernelspec": {
   "display_name": "Python 3",
   "language": "python",
   "name": "python3"
  },
  "language_info": {
   "codemirror_mode": {
    "name": "ipython",
    "version": 3
   },
   "file_extension": ".py",
   "mimetype": "text/x-python",
   "name": "python",
   "nbconvert_exporter": "python",
   "pygments_lexer": "ipython3",
   "version": "3.8.3"
  }
 },
 "nbformat": 4,
 "nbformat_minor": 4
}
