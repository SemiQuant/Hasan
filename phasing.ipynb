{
 "cells": [
  {
   "cell_type": "code",
   "execution_count": 35,
   "metadata": {},
   "outputs": [
    {
     "name": "stdout",
     "output_type": "stream",
     "text": [
      "rpoC  not found in bam file!\n"
     ]
    }
   ],
   "source": [
    "import pysam\n",
    "import numpy as np\n",
    "from collections import Counter\n",
    "vant = np.loadtxt(\"/Users/SemiQuant/Bioinformatics/Projects/Hasan/snps.tsv\", delimiter=\"\\t\", \n",
    "          dtype={'names': ('CHROM', 'POS', 'REF', 'ALT', 'TYPE'),\n",
    "          'formats': ('<U100', 'int', 'U10', 'U10', 'U10')}, skiprows=1)\n",
    "\n",
    "# input file is the reference name, reference based positions and mutations and type\n",
    "\n",
    "samfile = pysam.AlignmentFile(\"/Users/SemiQuant/Downloads/test/test.bam\", \"rb\")\n",
    "\n",
    "# TODO\n",
    "# add in procedures for indels\n",
    "# add in better output format, make it a matrix\n",
    "# add in reference sequence so can determine more info later\n",
    "\n",
    "\n",
    "phase_out = []\n",
    "for chrom in set(vant[\"CHROM\"]):\n",
    "    seq_out = []\n",
    "    pos = vant[\"POS\"][vant[\"CHROM\"] == chrom]\n",
    "    call = vant[\"ALT\"][vant[\"CHROM\"] == chrom]\n",
    "    ref = vant[\"REF\"][vant[\"CHROM\"] == chrom]\n",
    "    try:\n",
    "        for read in samfile.fetch(chrom, until_eof=True):\n",
    "            try:\n",
    "                #convert to positions in the read\n",
    "                pos_conv = read.query_alignment_start + read.get_reference_positions()[0] #unaligned leading bases + position of first alignment on reference\n",
    "                pos_conv = pos - pos_conv\n",
    "                phase = \"\"\n",
    "                call_c = 0\n",
    "                for p in pos_conv:\n",
    "                    try:\n",
    "                        # we dont want any bases that were filtered out so only take those that match the input\n",
    "                        if read.query_sequence[p] in call[call_c].split(',') or read.query_sequence[p] == ref[call_c]: # in case more than on allele\n",
    "                            phase += read.query_sequence[p]\n",
    "                        else:\n",
    "                            phase += \"N\"\n",
    "                    except Exception:\n",
    "                        phase += \"N\"\n",
    "                    call_c += 1\n",
    "                seq_out.append(phase)\n",
    "            except Exception:\n",
    "                continue\n",
    "        # phase_out.append([[chrom], [Counter(seq_out)]])\n",
    "        phase_out.append([[chrom], list(Counter(seq_out).items())])\n",
    "    except Exception:\n",
    "        print(chrom, \" not found in bam file!\")"
   ]
  },
  {
   "cell_type": "code",
   "execution_count": null,
   "metadata": {},
   "outputs": [],
   "source": [
    "phase_out"
   ]
  },
  {
   "cell_type": "code",
   "execution_count": null,
   "metadata": {},
   "outputs": [],
   "source": []
  },
  {
   "cell_type": "code",
   "execution_count": null,
   "metadata": {},
   "outputs": [],
   "source": []
  },
  {
   "cell_type": "code",
   "execution_count": null,
   "metadata": {},
   "outputs": [],
   "source": []
  },
  {
   "cell_type": "code",
   "execution_count": null,
   "metadata": {},
   "outputs": [],
   "source": []
  },
  {
   "cell_type": "code",
   "execution_count": null,
   "metadata": {},
   "outputs": [],
   "source": []
  }
 ],
 "metadata": {
  "kernelspec": {
   "display_name": "Python 3",
   "language": "python",
   "name": "python3"
  },
  "language_info": {
   "codemirror_mode": {
    "name": "ipython",
    "version": 3
   },
   "file_extension": ".py",
   "mimetype": "text/x-python",
   "name": "python",
   "nbconvert_exporter": "python",
   "pygments_lexer": "ipython3",
   "version": "3.8.3"
  }
 },
 "nbformat": 4,
 "nbformat_minor": 4
}
